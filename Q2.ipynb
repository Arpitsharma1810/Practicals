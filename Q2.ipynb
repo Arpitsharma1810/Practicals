{
 "cells": [
  {
   "cell_type": "markdown",
   "id": "d150beb9",
   "metadata": {},
   "source": [
    "# 2. Write programs in Python using NumPy library to do the following:\n",
    "## a. Compute the mean, standard deviation, and variance of a two dimensional random integer array along the second axis."
   ]
  },
  {
   "cell_type": "code",
   "execution_count": 4,
   "id": "47b7ab3a",
   "metadata": {},
   "outputs": [
    {
     "data": {
      "text/plain": [
       "array([[52, 62, 41],\n",
       "       [52, 74, 39],\n",
       "       [27, 45, 61],\n",
       "       [38, 20, 31],\n",
       "       [27, 64, 28]])"
      ]
     },
     "execution_count": 4,
     "metadata": {},
     "output_type": "execute_result"
    }
   ],
   "source": [
    "import numpy as np\n",
    "arr=np.random.randint(20,80,(5,3))\n",
    "arr"
   ]
  },
  {
   "cell_type": "code",
   "execution_count": 15,
   "id": "99799170",
   "metadata": {
    "scrolled": true
   },
   "outputs": [
    {
     "name": "stdout",
     "output_type": "stream",
     "text": [
      "MEAN along second axis\n"
     ]
    },
    {
     "data": {
      "text/plain": [
       "array([51.66666667, 55.        , 44.33333333, 29.66666667, 39.66666667])"
      ]
     },
     "execution_count": 15,
     "metadata": {},
     "output_type": "execute_result"
    }
   ],
   "source": [
    "print(\"MEAN along second axis\")\n",
    "np.mean(arr,axis=1)"
   ]
  },
  {
   "cell_type": "code",
   "execution_count": 17,
   "id": "0488990e",
   "metadata": {
    "scrolled": true
   },
   "outputs": [
    {
     "name": "stdout",
     "output_type": "stream",
     "text": [
      "STANDARD DEVIATION along second axis\n"
     ]
    },
    {
     "data": {
      "text/plain": [
       "array([ 8.57645355, 14.44529912, 13.88844444,  7.40870359, 17.21110752])"
      ]
     },
     "execution_count": 17,
     "metadata": {},
     "output_type": "execute_result"
    }
   ],
   "source": [
    "print(\"STANDARD DEVIATION along second axis\")\n",
    "np.std(arr,axis=1)"
   ]
  },
  {
   "cell_type": "code",
   "execution_count": 18,
   "id": "0a56784d",
   "metadata": {},
   "outputs": [
    {
     "data": {
      "text/plain": [
       "array([ 73.55555556, 208.66666667, 192.88888889,  54.88888889,\n",
       "       296.22222222])"
      ]
     },
     "execution_count": 18,
     "metadata": {},
     "output_type": "execute_result"
    }
   ],
   "source": [
    "np.var(arr,axis=1)"
   ]
  },
  {
   "cell_type": "markdown",
   "id": "ed0deb9b",
   "metadata": {},
   "source": [
    "## b. Get the indices of the sorted elements of a given array.\n",
    "## a. B = [56, 48, 22, 41, 78, 91, 24, 46, 8, 33]"
   ]
  },
  {
   "cell_type": "code",
   "execution_count": 26,
   "id": "386a3918",
   "metadata": {},
   "outputs": [
    {
     "data": {
      "text/plain": [
       "array([56, 48, 22, 41, 78, 91, 24, 46,  8, 33])"
      ]
     },
     "execution_count": 26,
     "metadata": {},
     "output_type": "execute_result"
    }
   ],
   "source": [
    "arr=np.array([56,48,22,41,78,91,24,46,8,33])\n",
    "arr"
   ]
  },
  {
   "cell_type": "code",
   "execution_count": 28,
   "id": "b0b451ae",
   "metadata": {},
   "outputs": [],
   "source": [
    "index=arr.argsort()"
   ]
  },
  {
   "cell_type": "code",
   "execution_count": 31,
   "id": "4c587e9f",
   "metadata": {},
   "outputs": [
    {
     "name": "stdout",
     "output_type": "stream",
     "text": [
      "Indices of sorted elements of an array\n"
     ]
    },
    {
     "data": {
      "text/plain": [
       "array([8, 2, 6, 9, 3, 7, 1, 0, 4, 5], dtype=int64)"
      ]
     },
     "execution_count": 31,
     "metadata": {},
     "output_type": "execute_result"
    }
   ],
   "source": [
    "print(\"Indices of sorted elements of an array\")\n",
    "index"
   ]
  },
  {
   "cell_type": "code",
   "execution_count": 32,
   "id": "1a0191e2",
   "metadata": {},
   "outputs": [
    {
     "data": {
      "text/plain": [
       "array([ 8, 22, 24, 33, 41, 46, 48, 56, 78, 91])"
      ]
     },
     "execution_count": 32,
     "metadata": {},
     "output_type": "execute_result"
    }
   ],
   "source": [
    "arr[index]"
   ]
  },
  {
   "cell_type": "markdown",
   "id": "c20c59a9",
   "metadata": {},
   "source": [
    "## c. Create a 2-dimensional array of size m x n integer elements, also print the shape, type and data type of the array and then reshape it into nx m array, n and m are user inputs given at the run time."
   ]
  },
  {
   "cell_type": "markdown",
   "id": "fdeeb5ca",
   "metadata": {},
   "source": [
    "# Input of m and n"
   ]
  },
  {
   "cell_type": "code",
   "execution_count": 40,
   "id": "f467425c",
   "metadata": {},
   "outputs": [
    {
     "name": "stdout",
     "output_type": "stream",
     "text": [
      "Enter the number of rows: 4\n",
      "Enter the number of columns: 3\n"
     ]
    }
   ],
   "source": [
    "m=int(input(\"Enter the number of rows: \"))\n",
    "n=int(input(\"Enter the number of columns: \"))"
   ]
  },
  {
   "cell_type": "code",
   "execution_count": 42,
   "id": "948a24a6",
   "metadata": {},
   "outputs": [
    {
     "data": {
      "text/plain": [
       "array([[12, 44, 36],\n",
       "       [26, 16, 42],\n",
       "       [11, 47, 27],\n",
       "       [27, 47, 37]])"
      ]
     },
     "execution_count": 42,
     "metadata": {},
     "output_type": "execute_result"
    }
   ],
   "source": [
    "arr=np.random.randint(10,50,(m,n))\n",
    "arr"
   ]
  },
  {
   "cell_type": "markdown",
   "id": "72edcbf3",
   "metadata": {},
   "source": [
    "# Shape of an array"
   ]
  },
  {
   "cell_type": "code",
   "execution_count": 44,
   "id": "911151be",
   "metadata": {},
   "outputs": [
    {
     "data": {
      "text/plain": [
       "(4, 3)"
      ]
     },
     "execution_count": 44,
     "metadata": {},
     "output_type": "execute_result"
    }
   ],
   "source": [
    "arr.shape"
   ]
  },
  {
   "cell_type": "markdown",
   "id": "6b81dade",
   "metadata": {},
   "source": [
    "# Type of an array"
   ]
  },
  {
   "cell_type": "code",
   "execution_count": 48,
   "id": "349a5394",
   "metadata": {},
   "outputs": [
    {
     "data": {
      "text/plain": [
       "numpy.ndarray"
      ]
     },
     "execution_count": 48,
     "metadata": {},
     "output_type": "execute_result"
    }
   ],
   "source": [
    "type(arr)"
   ]
  },
  {
   "cell_type": "markdown",
   "id": "b65e4509",
   "metadata": {},
   "source": [
    "# Data Type of an array"
   ]
  },
  {
   "cell_type": "code",
   "execution_count": 45,
   "id": "c6eea9a3",
   "metadata": {},
   "outputs": [
    {
     "data": {
      "text/plain": [
       "dtype('int32')"
      ]
     },
     "execution_count": 45,
     "metadata": {},
     "output_type": "execute_result"
    }
   ],
   "source": [
    "arr.dtype"
   ]
  },
  {
   "cell_type": "markdown",
   "id": "2201a7a0",
   "metadata": {},
   "source": [
    "# Reshape an array"
   ]
  },
  {
   "cell_type": "code",
   "execution_count": 49,
   "id": "ffe741d7",
   "metadata": {},
   "outputs": [],
   "source": [
    "arr1=arr.reshape(n,m)"
   ]
  },
  {
   "cell_type": "code",
   "execution_count": 50,
   "id": "74458d70",
   "metadata": {},
   "outputs": [
    {
     "data": {
      "text/plain": [
       "array([[12, 44, 36, 26],\n",
       "       [16, 42, 11, 47],\n",
       "       [27, 27, 47, 37]])"
      ]
     },
     "execution_count": 50,
     "metadata": {},
     "output_type": "execute_result"
    }
   ],
   "source": [
    "arr1"
   ]
  },
  {
   "cell_type": "markdown",
   "id": "0f238f19",
   "metadata": {},
   "source": [
    "# Transpose of an array"
   ]
  },
  {
   "cell_type": "code",
   "execution_count": 52,
   "id": "1402ef9e",
   "metadata": {},
   "outputs": [
    {
     "data": {
      "text/plain": [
       "array([[12, 26, 11, 27],\n",
       "       [44, 16, 47, 47],\n",
       "       [36, 42, 27, 37]])"
      ]
     },
     "execution_count": 52,
     "metadata": {},
     "output_type": "execute_result"
    }
   ],
   "source": [
    "arr.T"
   ]
  },
  {
   "cell_type": "markdown",
   "id": "2f7664c6",
   "metadata": {},
   "source": [
    "## d. Test whether the elements of a given array are zero, non-zero and NaN. Record the indices of these elements in three separate arrays."
   ]
  },
  {
   "cell_type": "code",
   "execution_count": 82,
   "id": "9a9a61a3",
   "metadata": {},
   "outputs": [
    {
     "data": {
      "text/plain": [
       "array([1, 0, 1, 1, 0, None, 1, 0, 0, 1, 1, 5, 8, 4, 0, None, 1, 0, 0, 14,\n",
       "       None], dtype=object)"
      ]
     },
     "execution_count": 82,
     "metadata": {},
     "output_type": "execute_result"
    }
   ],
   "source": [
    "arr=np.array([1,0,1,1,0,None,1,0,0,1,1,5,8,4,0,None,1,0,0,14,None])\n",
    "arr"
   ]
  },
  {
   "cell_type": "code",
   "execution_count": 83,
   "id": "ce1fccec",
   "metadata": {},
   "outputs": [
    {
     "name": "stdout",
     "output_type": "stream",
     "text": [
      "NONZERO INDEX\n"
     ]
    },
    {
     "data": {
      "text/plain": [
       "(array([ 0,  2,  3,  5,  6,  9, 10, 11, 12, 13, 15, 16, 19, 20],\n",
       "       dtype=int64),)"
      ]
     },
     "execution_count": 83,
     "metadata": {},
     "output_type": "execute_result"
    }
   ],
   "source": [
    "print(\"NONZERO INDEX\")\n",
    "nonzero=np.where(arr!=0)\n",
    "nonzero"
   ]
  },
  {
   "cell_type": "code",
   "execution_count": 84,
   "id": "30867c4a",
   "metadata": {},
   "outputs": [
    {
     "name": "stdout",
     "output_type": "stream",
     "text": [
      "Non zero elements\n"
     ]
    },
    {
     "data": {
      "text/plain": [
       "array([1, 1, 1, None, 1, 1, 1, 5, 8, 4, None, 1, 14, None], dtype=object)"
      ]
     },
     "execution_count": 84,
     "metadata": {},
     "output_type": "execute_result"
    }
   ],
   "source": [
    "print(\"Non zero elements\")\n",
    "arr[nonzero]"
   ]
  },
  {
   "cell_type": "code",
   "execution_count": 85,
   "id": "726b5cb6",
   "metadata": {},
   "outputs": [
    {
     "name": "stdout",
     "output_type": "stream",
     "text": [
      "ZERO INDEX\n"
     ]
    },
    {
     "data": {
      "text/plain": [
       "(array([ 1,  4,  7,  8, 14, 17, 18], dtype=int64),)"
      ]
     },
     "execution_count": 85,
     "metadata": {},
     "output_type": "execute_result"
    }
   ],
   "source": [
    "print(\"ZERO INDEX\")\n",
    "zero=np.where(arr==0)\n",
    "zero"
   ]
  },
  {
   "cell_type": "code",
   "execution_count": 86,
   "id": "90464ef6",
   "metadata": {},
   "outputs": [
    {
     "name": "stdout",
     "output_type": "stream",
     "text": [
      "Zero elements\n"
     ]
    },
    {
     "data": {
      "text/plain": [
       "array([0, 0, 0, 0, 0, 0, 0], dtype=object)"
      ]
     },
     "execution_count": 86,
     "metadata": {},
     "output_type": "execute_result"
    }
   ],
   "source": [
    "print(\"Zero elements\")\n",
    "arr[zero]"
   ]
  },
  {
   "cell_type": "code",
   "execution_count": 87,
   "id": "cebc4cae",
   "metadata": {},
   "outputs": [
    {
     "name": "stdout",
     "output_type": "stream",
     "text": [
      "NAN INDEX\n"
     ]
    },
    {
     "data": {
      "text/plain": [
       "(array([ 5, 15, 20], dtype=int64),)"
      ]
     },
     "execution_count": 87,
     "metadata": {},
     "output_type": "execute_result"
    }
   ],
   "source": [
    "print(\"NAN INDEX\")\n",
    "no=np.where(arr==None)\n",
    "no"
   ]
  },
  {
   "cell_type": "code",
   "execution_count": 88,
   "id": "750fce7a",
   "metadata": {},
   "outputs": [
    {
     "name": "stdout",
     "output_type": "stream",
     "text": [
      "NAN elements\n"
     ]
    },
    {
     "data": {
      "text/plain": [
       "array([None, None, None], dtype=object)"
      ]
     },
     "execution_count": 88,
     "metadata": {},
     "output_type": "execute_result"
    }
   ],
   "source": [
    "print(\"NAN elements\")\n",
    "arr[no]"
   ]
  },
  {
   "cell_type": "code",
   "execution_count": null,
   "id": "6d1b45e0",
   "metadata": {},
   "outputs": [],
   "source": []
  }
 ],
 "metadata": {
  "kernelspec": {
   "display_name": "Python 3 (ipykernel)",
   "language": "python",
   "name": "python3"
  },
  "language_info": {
   "codemirror_mode": {
    "name": "ipython",
    "version": 3
   },
   "file_extension": ".py",
   "mimetype": "text/x-python",
   "name": "python",
   "nbconvert_exporter": "python",
   "pygments_lexer": "ipython3",
   "version": "3.9.12"
  }
 },
 "nbformat": 4,
 "nbformat_minor": 5
}
