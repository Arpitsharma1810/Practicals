{
 "cells": [
  {
   "cell_type": "markdown",
   "id": "b093941b",
   "metadata": {},
   "source": [
    "## 8. Consider the following data frame containing a family name, gender of the family member and her/his monthlyincome in each record.\n",
    "### Name Gender MonthlyIncome (Rs.)\n",
    "### Shah Male 114000.00\n",
    "### Vats Male 65000.00\n",
    "### Vats Female 43150.00\n",
    "### Kumar Female 69500.00\n",
    "### Vats Female 155000.00\n",
    "### Kumar Male 103000.00\n",
    "### Shah Male 55000.00\n",
    "### Shah Female 112400.00\n",
    "### Kumar Female 81030.00\n",
    "### Vats Male 71900.00\n",
    "### Write a program in Python using Pandas to perform the following:"
   ]
  },
  {
   "cell_type": "code",
   "execution_count": 1,
   "id": "0913c4c4",
   "metadata": {},
   "outputs": [],
   "source": [
    "import pandas as pd\n",
    "import numpy as np\n",
    "name = np.array(['Shah', 'Vats', 'Kumar'])\n",
    "gender = np.array(['Male', 'Female'])\n",
    "dt = pd.DataFrame({\n",
    "'Name' : name[[0,1,1,2,1,2,0,0,2,1]],\n",
    "'Gender' : gender[[0,0,1,1,1,0,0,1,1,0]],\n",
    "'MonthlyIncome' : [114000, 65000, 43150, 69500, 155000, 103000, 55000, 112400,20000,14000]})"
   ]
  },
  {
   "cell_type": "code",
   "execution_count": 2,
   "id": "b68d241c",
   "metadata": {},
   "outputs": [
    {
     "data": {
      "text/html": [
       "<div>\n",
       "<style scoped>\n",
       "    .dataframe tbody tr th:only-of-type {\n",
       "        vertical-align: middle;\n",
       "    }\n",
       "\n",
       "    .dataframe tbody tr th {\n",
       "        vertical-align: top;\n",
       "    }\n",
       "\n",
       "    .dataframe thead th {\n",
       "        text-align: right;\n",
       "    }\n",
       "</style>\n",
       "<table border=\"1\" class=\"dataframe\">\n",
       "  <thead>\n",
       "    <tr style=\"text-align: right;\">\n",
       "      <th></th>\n",
       "      <th>Name</th>\n",
       "      <th>Gender</th>\n",
       "      <th>MonthlyIncome</th>\n",
       "    </tr>\n",
       "  </thead>\n",
       "  <tbody>\n",
       "    <tr>\n",
       "      <th>0</th>\n",
       "      <td>Shah</td>\n",
       "      <td>Male</td>\n",
       "      <td>114000</td>\n",
       "    </tr>\n",
       "    <tr>\n",
       "      <th>1</th>\n",
       "      <td>Vats</td>\n",
       "      <td>Male</td>\n",
       "      <td>65000</td>\n",
       "    </tr>\n",
       "    <tr>\n",
       "      <th>2</th>\n",
       "      <td>Vats</td>\n",
       "      <td>Female</td>\n",
       "      <td>43150</td>\n",
       "    </tr>\n",
       "    <tr>\n",
       "      <th>3</th>\n",
       "      <td>Kumar</td>\n",
       "      <td>Female</td>\n",
       "      <td>69500</td>\n",
       "    </tr>\n",
       "    <tr>\n",
       "      <th>4</th>\n",
       "      <td>Vats</td>\n",
       "      <td>Female</td>\n",
       "      <td>155000</td>\n",
       "    </tr>\n",
       "    <tr>\n",
       "      <th>5</th>\n",
       "      <td>Kumar</td>\n",
       "      <td>Male</td>\n",
       "      <td>103000</td>\n",
       "    </tr>\n",
       "    <tr>\n",
       "      <th>6</th>\n",
       "      <td>Shah</td>\n",
       "      <td>Male</td>\n",
       "      <td>55000</td>\n",
       "    </tr>\n",
       "    <tr>\n",
       "      <th>7</th>\n",
       "      <td>Shah</td>\n",
       "      <td>Female</td>\n",
       "      <td>112400</td>\n",
       "    </tr>\n",
       "    <tr>\n",
       "      <th>8</th>\n",
       "      <td>Kumar</td>\n",
       "      <td>Female</td>\n",
       "      <td>20000</td>\n",
       "    </tr>\n",
       "    <tr>\n",
       "      <th>9</th>\n",
       "      <td>Vats</td>\n",
       "      <td>Male</td>\n",
       "      <td>14000</td>\n",
       "    </tr>\n",
       "  </tbody>\n",
       "</table>\n",
       "</div>"
      ],
      "text/plain": [
       "    Name  Gender  MonthlyIncome\n",
       "0   Shah    Male         114000\n",
       "1   Vats    Male          65000\n",
       "2   Vats  Female          43150\n",
       "3  Kumar  Female          69500\n",
       "4   Vats  Female         155000\n",
       "5  Kumar    Male         103000\n",
       "6   Shah    Male          55000\n",
       "7   Shah  Female         112400\n",
       "8  Kumar  Female          20000\n",
       "9   Vats    Male          14000"
      ]
     },
     "execution_count": 2,
     "metadata": {},
     "output_type": "execute_result"
    }
   ],
   "source": [
    "dt"
   ]
  },
  {
   "cell_type": "markdown",
   "id": "d7252fe7",
   "metadata": {},
   "source": [
    "## a. Calculate and display familywise gross monthly income."
   ]
  },
  {
   "cell_type": "code",
   "execution_count": 3,
   "id": "f7cb3e5b",
   "metadata": {
    "scrolled": true
   },
   "outputs": [
    {
     "data": {
      "text/plain": [
       "Name\n",
       "Kumar    192500\n",
       "Shah     281400\n",
       "Vats     277150\n",
       "Name: MonthlyIncome, dtype: int64"
      ]
     },
     "execution_count": 3,
     "metadata": {},
     "output_type": "execute_result"
    }
   ],
   "source": [
    "dt.groupby(by= 'Name')['MonthlyIncome'].sum()"
   ]
  },
  {
   "cell_type": "markdown",
   "id": "bde3afdf",
   "metadata": {},
   "source": [
    "## b. Calculate and display the member with the highest monthly income in a family."
   ]
  },
  {
   "cell_type": "code",
   "execution_count": 4,
   "id": "d9d7d8d4",
   "metadata": {},
   "outputs": [
    {
     "data": {
      "text/plain": [
       "Name   Gender\n",
       "Kumar  Female     69500\n",
       "       Male      103000\n",
       "Shah   Female    112400\n",
       "       Male      114000\n",
       "Vats   Female    155000\n",
       "       Male       65000\n",
       "Name: MonthlyIncome, dtype: int64"
      ]
     },
     "execution_count": 4,
     "metadata": {},
     "output_type": "execute_result"
    }
   ],
   "source": [
    "dt.groupby(by=['Name','Gender'])['MonthlyIncome'].max()"
   ]
  },
  {
   "cell_type": "markdown",
   "id": "4b8325bf",
   "metadata": {},
   "source": [
    "## c. Calculate and display monthly income of all members with income greater than Rs. 60000.00."
   ]
  },
  {
   "cell_type": "code",
   "execution_count": 5,
   "id": "a5cd4b5a",
   "metadata": {},
   "outputs": [
    {
     "data": {
      "text/html": [
       "<div>\n",
       "<style scoped>\n",
       "    .dataframe tbody tr th:only-of-type {\n",
       "        vertical-align: middle;\n",
       "    }\n",
       "\n",
       "    .dataframe tbody tr th {\n",
       "        vertical-align: top;\n",
       "    }\n",
       "\n",
       "    .dataframe thead th {\n",
       "        text-align: right;\n",
       "    }\n",
       "</style>\n",
       "<table border=\"1\" class=\"dataframe\">\n",
       "  <thead>\n",
       "    <tr style=\"text-align: right;\">\n",
       "      <th></th>\n",
       "      <th>Name</th>\n",
       "      <th>Gender</th>\n",
       "      <th>MonthlyIncome</th>\n",
       "    </tr>\n",
       "  </thead>\n",
       "  <tbody>\n",
       "    <tr>\n",
       "      <th>0</th>\n",
       "      <td>Shah</td>\n",
       "      <td>Male</td>\n",
       "      <td>114000</td>\n",
       "    </tr>\n",
       "    <tr>\n",
       "      <th>1</th>\n",
       "      <td>Vats</td>\n",
       "      <td>Male</td>\n",
       "      <td>65000</td>\n",
       "    </tr>\n",
       "    <tr>\n",
       "      <th>3</th>\n",
       "      <td>Kumar</td>\n",
       "      <td>Female</td>\n",
       "      <td>69500</td>\n",
       "    </tr>\n",
       "    <tr>\n",
       "      <th>4</th>\n",
       "      <td>Vats</td>\n",
       "      <td>Female</td>\n",
       "      <td>155000</td>\n",
       "    </tr>\n",
       "    <tr>\n",
       "      <th>5</th>\n",
       "      <td>Kumar</td>\n",
       "      <td>Male</td>\n",
       "      <td>103000</td>\n",
       "    </tr>\n",
       "    <tr>\n",
       "      <th>7</th>\n",
       "      <td>Shah</td>\n",
       "      <td>Female</td>\n",
       "      <td>112400</td>\n",
       "    </tr>\n",
       "  </tbody>\n",
       "</table>\n",
       "</div>"
      ],
      "text/plain": [
       "    Name  Gender  MonthlyIncome\n",
       "0   Shah    Male         114000\n",
       "1   Vats    Male          65000\n",
       "3  Kumar  Female          69500\n",
       "4   Vats  Female         155000\n",
       "5  Kumar    Male         103000\n",
       "7   Shah  Female         112400"
      ]
     },
     "execution_count": 5,
     "metadata": {},
     "output_type": "execute_result"
    }
   ],
   "source": [
    "dt[dt.MonthlyIncome>60000]"
   ]
  },
  {
   "cell_type": "markdown",
   "id": "69972e50",
   "metadata": {},
   "source": [
    "## d. Calculate and display the average monthly income of the female members in the Shah family."
   ]
  },
  {
   "cell_type": "code",
   "execution_count": 6,
   "id": "21ec09d2",
   "metadata": {},
   "outputs": [
    {
     "data": {
      "text/plain": [
       "112400.0"
      ]
     },
     "execution_count": 6,
     "metadata": {},
     "output_type": "execute_result"
    }
   ],
   "source": [
    "dt[(dt.Name == 'Shah') & (dt.Gender == 'Female')]['MonthlyIncome'].mean()"
   ]
  }
 ],
 "metadata": {
  "kernelspec": {
   "display_name": "Python 3 (ipykernel)",
   "language": "python",
   "name": "python3"
  },
  "language_info": {
   "codemirror_mode": {
    "name": "ipython",
    "version": 3
   },
   "file_extension": ".py",
   "mimetype": "text/x-python",
   "name": "python",
   "nbconvert_exporter": "python",
   "pygments_lexer": "ipython3",
   "version": "3.9.12"
  }
 },
 "nbformat": 4,
 "nbformat_minor": 5
}
